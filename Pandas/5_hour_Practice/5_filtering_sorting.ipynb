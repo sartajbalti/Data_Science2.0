{
 "cells": [
  {
   "cell_type": "code",
   "execution_count": null,
   "metadata": {},
   "outputs": [],
   "source": []
  }
 ],
 "metadata": {
  "kernelspec": {
   "display_name": "Python 3.9.7 ('base')",
   "language": "python",
   "name": "python3"
  },
  "language_info": {
   "name": "python",
   "version": "3.9.7"
  },
  "orig_nbformat": 4,
  "vscode": {
   "interpreter": {
    "hash": "2350637f88f88d2513fb97f91489f031060a0d97d71a62ead2e8894994e85640"
   }
  }
 },
 "nbformat": 4,
 "nbformat_minor": 2
}
